{
 "cells": [
  {
   "cell_type": "markdown",
   "id": "fb1c390e-7583-41a9-9aa7-49753ffa6e41",
   "metadata": {},
   "source": [
    "# Data Science Tools and Ecosystem"
   ]
  },
  {
   "cell_type": "markdown",
   "id": "ab178016-ac3b-42cb-9972-81829d39c1fe",
   "metadata": {},
   "source": [
    "In this notebook, Data Science Tools and Ecosystem are summarized."
   ]
  },
  {
   "cell_type": "markdown",
   "id": "6e63d18d-1843-404c-95ff-1b72ff8e0340",
   "metadata": {},
   "source": [
    "**Objectives:**\n",
    "- List of Popular languages for Data Science\n",
    "- List of commonly used libraries used by Data Scientists\n",
    "- Evaluating Arithmetic expression\n",
    "- Listing some of Data Science tools in table\n",
    "  "
   ]
  },
  {
   "cell_type": "markdown",
   "id": "276cb84f-bf3f-49b5-bd8d-cffac0204436",
   "metadata": {},
   "source": [
    "Some of the popular languages that Data Scientists use are:\n",
    "1. Python\n",
    "2. R\n",
    "3. Julia\n"
   ]
  },
  {
   "cell_type": "markdown",
   "id": "716d042c-065a-4c05-91c0-8e1dcf952b22",
   "metadata": {},
   "source": [
    "Some of the commonly used libraries used by Data Scientists include:\n",
    "* Plotly\n",
    "* NumPy\n",
    "* Matplotlib\n",
    "* Pandas\n"
   ]
  },
  {
   "cell_type": "markdown",
   "id": "4a69a8ca-8979-4dc6-b72b-fec0a58f9c4f",
   "metadata": {},
   "source": [
    "|**Data Science Tools**|\n",
    "|------------------|\n",
    "|Jupyter Notebook  |\n",
    "|------------------|\n",
    "|RStudio           |\n",
    "|------------------|\n",
    "|Visual Studio     |\n",
    "\n"
   ]
  },
  {
   "cell_type": "markdown",
   "id": "c6bc9085-1137-40e1-bb95-1d39827025fd",
   "metadata": {},
   "source": [
    "### Below are a few examples of evaluating arithmetic expressions in Python"
   ]
  },
  {
   "cell_type": "code",
   "execution_count": 3,
   "id": "d32a72c2-c2a5-4b87-b0da-f7bbf1353c48",
   "metadata": {},
   "outputs": [
    {
     "data": {
      "text/plain": [
       "17"
      ]
     },
     "execution_count": 3,
     "metadata": {},
     "output_type": "execute_result"
    }
   ],
   "source": [
    "#This a simple arithmetic expression to mutiply then add integers\n",
    "(3*4)+5"
   ]
  },
  {
   "cell_type": "code",
   "execution_count": 6,
   "id": "3c76dbb6-265d-4a7b-8bae-52bd72a06d18",
   "metadata": {},
   "outputs": [
    {
     "data": {
      "text/plain": [
       "3"
      ]
     },
     "execution_count": 6,
     "metadata": {},
     "output_type": "execute_result"
    }
   ],
   "source": [
    "#This will convert 200 minutes to hours by diving by 60\n",
    "200//60"
   ]
  },
  {
   "cell_type": "markdown",
   "id": "8c25c279-5c3d-4e61-ac89-8a852f12bf7c",
   "metadata": {},
   "source": [
    "## Author\n",
    "TWAGIRAYEZU EMMANUEL"
   ]
  }
 ],
 "metadata": {
  "kernelspec": {
   "display_name": "Python 3 (ipykernel)",
   "language": "python",
   "name": "python3"
  },
  "language_info": {
   "codemirror_mode": {
    "name": "ipython",
    "version": 3
   },
   "file_extension": ".py",
   "mimetype": "text/x-python",
   "name": "python",
   "nbconvert_exporter": "python",
   "pygments_lexer": "ipython3",
   "version": "3.11.7"
  }
 },
 "nbformat": 4,
 "nbformat_minor": 5
}
